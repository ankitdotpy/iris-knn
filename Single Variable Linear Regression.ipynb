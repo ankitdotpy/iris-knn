{
  "nbformat": 4,
  "nbformat_minor": 0,
  "metadata": {
    "colab": {
      "name": "Linear Regression.ipynb",
      "provenance": [],
      "collapsed_sections": []
    },
    "kernelspec": {
      "name": "python3",
      "display_name": "Python 3"
    },
    "language_info": {
      "name": "python"
    }
  },
  "cells": [
    {
      "cell_type": "markdown",
      "source": [
        "## Data Preperation"
      ],
      "metadata": {
        "id": "_R0E95XaOzUm"
      }
    },
    {
      "cell_type": "code",
      "execution_count": 28,
      "metadata": {
        "id": "Ks4q_ghVNsi9"
      },
      "outputs": [],
      "source": [
        "import pandas as pd\n",
        "import numpy as np\n",
        "import matplotlib.pyplot as plt\n",
        "from sklearn.model_selection import train_test_split\n",
        "plt.style.use('seaborn')"
      ]
    },
    {
      "cell_type": "code",
      "source": [
        "X = pd.read_csv('/content/Linear_X_Train.csv').values\n",
        "y = pd.read_csv('/content/Linear_X_Train.csv').values\n",
        "print(X.shape, y.shape)"
      ],
      "metadata": {
        "colab": {
          "base_uri": "https://localhost:8080/"
        },
        "id": "OEp6XTafPDsl",
        "outputId": "f0c416ed-27b8-41ef-cae2-2067166178bc"
      },
      "execution_count": 29,
      "outputs": [
        {
          "output_type": "stream",
          "name": "stdout",
          "text": [
            "(3750, 1) (3750, 1)\n"
          ]
        }
      ]
    },
    {
      "cell_type": "code",
      "source": [
        "plt.scatter(X,y)\n",
        "plt.show()"
      ],
      "metadata": {
        "colab": {
          "base_uri": "https://localhost:8080/",
          "height": 347
        },
        "id": "KWlHvdOmPPWl",
        "outputId": "b6ca5692-19b0-4e16-bd60-851ec466b33d"
      },
      "execution_count": 30,
      "outputs": [
        {
          "output_type": "display_data",
          "data": {
            "text/plain": [
              "<Figure size 576x396 with 1 Axes>"
            ],
            "image/png": "[encoded data removed]"
          },
          "metadata": {}
        }
      ]
    },
    {
      "cell_type": "markdown",
      "source": [
        "## Linear Regression"
      ],
      "metadata": {
        "id": "AYBKa3TxPW_P"
      }
    },
    {
      "cell_type": "code",
      "source": [
        "def hypothesis(x,theta):\n",
        "  ycap = theta[0] + theta[1]*x\n",
        "  return ycap"
      ],
      "metadata": {
        "id": "SHUSqRccLHKy"
      },
      "execution_count": 31,
      "outputs": []
    },
    {
      "cell_type": "code",
      "source": [
        "def error(X,y,theta):\n",
        "  m = X.shape[0]\n",
        "  total_error = 0\n",
        "  for i in range(m):\n",
        "    ycap = hypothesis(X[i],theta)\n",
        "    total_error += (ycap-y[i])**2\n",
        "  return total_error/m"
      ],
      "metadata": {
        "id": "NyTaonpWLRjx"
      },
      "execution_count": 32,
      "outputs": []
    },
    {
      "cell_type": "code",
      "source": [
        "def gradient(X,y,theta):\n",
        "  m = X.shape[0]\n",
        "  grad = np.zeros((2,))\n",
        "  for i in range(m):\n",
        "    x = X[i]\n",
        "    ycap = hypothesis(x,theta)\n",
        "    grad[0] += (ycap-y[i])\n",
        "    grad[1] += (ycap-y[i])*X[i]\n",
        "\n",
        "  return grad/m "
      ],
      "metadata": {
        "id": "XR3Z976TLolA"
      },
      "execution_count": 33,
      "outputs": []
    },
    {
      "cell_type": "code",
      "source": [
        "def gradientDescent(X,y,iter=1000,learning_rate=0.1):\n",
        "  theta = np.zeros((2,))\n",
        "  for i in range(iter):\n",
        "    grad = gradient(X,y,theta)\n",
        "    theta[0] -= learning_rate*grad[0]\n",
        "    theta[1] -= learning_rate*grad[1]\n",
        "    print(error(X,y,theta))\n",
        "  return theta"
      ],
      "metadata": {
        "id": "_JPx21VTMcUQ"
      },
      "execution_count": 34,
      "outputs": []
    },
    {
      "cell_type": "code",
      "source": [
        "X_train, X_test, Y_train, Y_test = train_test_split(X,y,test_size=0.33, random_state=54)"
      ],
      "metadata": {
        "id": "GZMtphxKIRLD"
      },
      "execution_count": 35,
      "outputs": []
    },
    {
      "cell_type": "code",
      "source": [
        "theta = gradientDescent(X_train,Y_train)"
      ],
      "metadata": {
        "id": "0xvPk9iBNZlN"
      },
      "execution_count": null,
      "outputs": []
    },
    {
      "cell_type": "code",
      "source": [
        "print(theta)"
      ],
      "metadata": {
        "colab": {
          "base_uri": "https://localhost:8080/"
        },
        "id": "EEaG72HFIrcj",
        "outputId": "6098ea8b-c3c5-4216-dc01-b3d266e59455"
      },
      "execution_count": 37,
      "outputs": [
        {
          "output_type": "stream",
          "name": "stdout",
          "text": [
            "[-4.16667064e-17  1.00000000e+00]\n"
          ]
        }
      ]
    },
    {
      "cell_type": "code",
      "source": [
        "xTest = pd.read_csv('/content/Linear_X_Test.csv').values"
      ],
      "metadata": {
        "id": "SejQcUjXOc-O"
      },
      "execution_count": 38,
      "outputs": []
    },
    {
      "cell_type": "code",
      "source": [
        "ypred = []\n",
        "for i in range(X_test.shape[0]):\n",
        "  ypred.append(hypothesis(X_test[i],theta))\n",
        "\n",
        "Y_pred = np.array(ypred)"
      ],
      "metadata": {
        "id": "1tJXWfsQPMQ2"
      },
      "execution_count": 39,
      "outputs": []
    },
    {
      "cell_type": "code",
      "source": [
        "def r2Score(y,Y_pred):\n",
        "  num = np.sum((y-Y_pred)**2)\n",
        "  dem = np.sum((y-Y_pred.mean())**2)\n",
        "  score = 1-(num/dem)\n",
        "  return score*100"
      ],
      "metadata": {
        "id": "IIUy7F5SHWbj"
      },
      "execution_count": 40,
      "outputs": []
    },
    {
      "cell_type": "code",
      "source": [
        "print(r2Score(Y_test,Y_pred))"
      ],
      "metadata": {
        "colab": {
          "base_uri": "https://localhost:8080/"
        },
        "id": "bUo4--aLHyuD",
        "outputId": "4b3675bf-3ad3-4fcb-ed8d-8739d9e70625"
      },
      "execution_count": 41,
      "outputs": [
        {
          "output_type": "stream",
          "name": "stdout",
          "text": [
            "100.0\n"
          ]
        }
      ]
    }
  ]
}