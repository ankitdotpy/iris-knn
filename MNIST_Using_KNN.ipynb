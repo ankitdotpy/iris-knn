{
  "nbformat": 4,
  "nbformat_minor": 0,
  "metadata": {
    "colab": {
      "name": "MNIST Using KNN.ipynb",
      "provenance": []
    },
    "kernelspec": {
      "name": "python3",
      "display_name": "Python 3"
    },
    "language_info": {
      "name": "python"
    }
  },
  "cells": [
    {
      "cell_type": "code",
      "execution_count": 31,
      "metadata": {
        "id": "3VNcWyfhJ4At"
      },
      "outputs": [],
      "source": [
        "import numpy as np\n",
        "import pandas as pd\n",
        "import matplotlib.pyplot as plt\n",
        "from sklearn.model_selection import train_test_split\n",
        "plt.style.use('seaborn-pastel')"
      ]
    },
    {
      "cell_type": "code",
      "source": [
        "df = pd.read_csv('/content/sample_data/mnist_train_small.csv',header=None)\n",
        "X = df.values[:,1:]\n",
        "Y = df.values[:,0]\n",
        "print(X.shape,Y.shape)"
      ],
      "metadata": {
        "colab": {
          "base_uri": "https://localhost:8080/"
        },
        "id": "k8Eq62sBKIaY",
        "outputId": "7fa479e8-4958-404c-d523-29302386689d"
      },
      "execution_count": 32,
      "outputs": [
        {
          "output_type": "stream",
          "name": "stdout",
          "text": [
            "(20000, 784) (20000,)\n"
          ]
        }
      ]
    },
    {
      "cell_type": "code",
      "source": [
        "def showImg(sample):\n",
        "  img = sample.reshape((28,28))\n",
        "  plt.imshow(img,cmap='gray')\n",
        "  plt.show()\n",
        "\n",
        "showImg(X[0])\n",
        "print(Y[0])"
      ],
      "metadata": {
        "colab": {
          "base_uri": "https://localhost:8080/",
          "height": 282
        },
        "id": "dktsimvI_B9U",
        "outputId": "7ea7dfe6-67cf-4f03-e1ce-67652b370f65"
      },
      "execution_count": 33,
      "outputs": [
        {
          "output_type": "display_data",
          "data": {
            "text/plain": [
              "<Figure size 432x288 with 1 Axes>"
            ],
            "image/png": "[encoded data removed]"
          },
          "metadata": {
            "needs_background": "light"
          }
        },
        {
          "output_type": "stream",
          "name": "stdout",
          "text": [
            "6\n"
          ]
        }
      ]
    },
    {
      "cell_type": "code",
      "source": [
        "X_train, X_test, Y_train, Y_test = train_test_split(X,Y,test_size=0.33,random_state=54)"
      ],
      "metadata": {
        "id": "LrlUcmCtKS8n"
      },
      "execution_count": 34,
      "outputs": []
    },
    {
      "cell_type": "code",
      "source": [
        "def distance(x1,x2):\n",
        "  return np.sqrt(sum((x1-x2)**2))"
      ],
      "metadata": {
        "id": "mn0BVM_OLUbH"
      },
      "execution_count": 35,
      "outputs": []
    },
    {
      "cell_type": "code",
      "source": [
        "def knn(X,Y,query,k=10):\n",
        "  m = X.shape[0]\n",
        "  dist = []\n",
        "  for i in range(m):\n",
        "    d = distance(X[i],query)\n",
        "    dist.append((d,Y[i]))\n",
        "  dist = sorted(dist)\n",
        "  dist = dist[:k]\n",
        "  # print(dist)\n",
        "  dist = np.array(dist)\n",
        "  unq = np.unique(dist[:,1],return_counts=True)\n",
        "  ind = unq[1].argmax()\n",
        "  return int(unq[0][ind])"
      ],
      "metadata": {
        "id": "c39lUQqYLi2O"
      },
      "execution_count": 36,
      "outputs": []
    },
    {
      "cell_type": "code",
      "source": [
        "pred = knn(X_train,Y_train,X_test[5])\n",
        "showImg(X_test[5])\n",
        "print(\"Prediction:\",pred)"
      ],
      "metadata": {
        "colab": {
          "base_uri": "https://localhost:8080/",
          "height": 282
        },
        "id": "WbuZsZ4MM771",
        "outputId": "cf7e07cb-46bc-4cf1-faec-2dae0b71b2e0"
      },
      "execution_count": 40,
      "outputs": [
        {
          "output_type": "display_data",
          "data": {
            "text/plain": [
              "<Figure size 432x288 with 1 Axes>"
            ],
            "image/png": "[encoded data removed]"
          },
          "metadata": {
            "needs_background": "light"
          }
        },
        {
          "output_type": "stream",
          "name": "stdout",
          "text": [
            "Prediction: 3\n"
          ]
        }
      ]
    },
    {
      "cell_type": "code",
      "source": [
        ""
      ],
      "metadata": {
        "id": "txH0qogy-nxM"
      },
      "execution_count": null,
      "outputs": []
    }
  ]
}