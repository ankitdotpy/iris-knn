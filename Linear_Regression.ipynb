{
  "nbformat": 4,
  "nbformat_minor": 0,
  "metadata": {
    "colab": {
      "name": "Linear Regression.ipynb",
      "provenance": [],
      "collapsed_sections": []
    },
    "kernelspec": {
      "name": "python3",
      "display_name": "Python 3"
    },
    "language_info": {
      "name": "python"
    }
  },
  "cells": [
    {
      "cell_type": "markdown",
      "source": [
        "## Data Preperation"
      ],
      "metadata": {
        "id": "_R0E95XaOzUm"
      }
    },
    {
      "cell_type": "code",
      "execution_count": 9,
      "metadata": {
        "id": "Ks4q_ghVNsi9"
      },
      "outputs": [],
      "source": [
        "import pandas as pd\n",
        "import numpy as np\n",
        "import matplotlib.pyplot as plt\n",
        "plt.style.use('seaborn')"
      ]
    },
    {
      "cell_type": "code",
      "source": [
        "X = pd.read_csv('path to training data').values\n",
        "y = pd.read_csv('path to training data').values\n",
        "print(X.shape, y.shape)"
      ],
      "metadata": {
        "colab": {
          "base_uri": "https://localhost:8080/"
        },
        "id": "OEp6XTafPDsl",
        "outputId": "57bcdeda-e37c-4290-ffa2-680819d754e4"
      },
      "execution_count": 10,
      "outputs": [
        {
          "output_type": "stream",
          "name": "stdout",
          "text": [
            "(3750, 1) (3750, 1)\n"
          ]
        }
      ]
    },
    {
      "cell_type": "code",
      "source": [
        "plt.scatter(X,y)\n",
        "plt.show()"
      ],
      "metadata": {
        "colab": {
          "base_uri": "https://localhost:8080/",
          "height": 347
        },
        "id": "KWlHvdOmPPWl",
        "outputId": "5b5e0393-e06c-40fb-df4f-c591e683ad58"
      },
      "execution_count": 11,
      "outputs": [
        {
          "output_type": "display_data",
          "data": {
            "text/plain": [
              "<Figure size 576x396 with 1 Axes>"
            ],
            "image/png": "[encoded data removed]"
          },
          "metadata": {}
        }
      ]
    },
    {
      "cell_type": "markdown",
      "source": [
        "## Linear Regression"
      ],
      "metadata": {
        "id": "AYBKa3TxPW_P"
      }
    },
    {
      "cell_type": "code",
      "source": [
        "def hypothesis(x,theta):\n",
        "  ycap = theta[0] + theta[1]*x\n",
        "  return ycap"
      ],
      "metadata": {
        "id": "SHUSqRccLHKy"
      },
      "execution_count": 20,
      "outputs": []
    },
    {
      "cell_type": "code",
      "source": [
        "def error(X,y,theta):\n",
        "  m = X.shape[0]\n",
        "  total_error = 0\n",
        "  for i in range(m):\n",
        "    ycap = hypothesis(X[i],theta)\n",
        "    total_error += (ycap-y[i])**2\n",
        "  return total_error/m"
      ],
      "metadata": {
        "id": "NyTaonpWLRjx"
      },
      "execution_count": 21,
      "outputs": []
    },
    {
      "cell_type": "code",
      "source": [
        "def gradient(X,y,theta):\n",
        "  m = X.shape[0]\n",
        "  grad = np.zeros((2,))\n",
        "  for i in range(m):\n",
        "    x = X[i]\n",
        "    ycap = hypothesis(x,theta)\n",
        "    grad[0] += (ycap-y[i])\n",
        "    grad[1] += (ycap-y[i])*X[i]\n",
        "\n",
        "  return grad/m "
      ],
      "metadata": {
        "id": "XR3Z976TLolA"
      },
      "execution_count": 22,
      "outputs": []
    },
    {
      "cell_type": "code",
      "source": [
        "def gradientDescent(X,y,iter=100,learning_rate=0.1):\n",
        "  theta = np.zeros((2,))\n",
        "  for i in range(iter):\n",
        "    grad = gradient(X,y,theta)\n",
        "    theta[0] -= learning_rate*grad[0]\n",
        "    theta[1] -= learning_rate*grad[1]\n",
        "    print(error(X,y,theta))\n",
        "  return theta"
      ],
      "metadata": {
        "id": "_JPx21VTMcUQ"
      },
      "execution_count": 26,
      "outputs": []
    },
    {
      "cell_type": "code",
      "source": [
        "theta = gradientDescent(X,y)"
      ],
      "metadata": {
        "id": "0xvPk9iBNZlN"
      },
      "execution_count": null,
      "outputs": []
    },
    {
      "cell_type": "code",
      "source": [
        "xTest = pd.read_csv('path to test data').values"
      ],
      "metadata": {
        "id": "SejQcUjXOc-O"
      },
      "execution_count": 29,
      "outputs": []
    },
    {
      "cell_type": "code",
      "source": [
        "for i in range(xTest.shape[0]):\n",
        "  print(hypothesis(xTest[i],theta))"
      ],
      "metadata": {
        "id": "1tJXWfsQPMQ2"
      },
      "execution_count": null,
      "outputs": []
    }
  ]
}